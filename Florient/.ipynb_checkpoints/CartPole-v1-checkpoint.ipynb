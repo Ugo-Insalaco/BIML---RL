{
 "cells": [
  {
   "cell_type": "markdown",
   "id": "f52d8526",
   "metadata": {},
   "source": [
    "# Apprentissage par renforcement profond"
   ]
  },
  {
   "cell_type": "markdown",
   "id": "a209838e",
   "metadata": {},
   "source": [
    "## 1. Import + création des classes nécessaires + Initialisation des variables"
   ]
  },
  {
   "cell_type": "code",
   "execution_count": 5,
   "id": "d1152fe4",
   "metadata": {},
   "outputs": [],
   "source": [
    "\n",
    "import gym\n",
    "\n",
    "import time\n",
    "import numpy as np\n",
    "import matplotlib.pyplot as plt\n",
    "import torch\n",
    "from torch import nn\n",
    "import copy\n",
    "\n",
    "from gym.wrappers.record_video import RecordVideo\n"
   ]
  },
  {
   "cell_type": "code",
   "execution_count": 11,
   "id": "cd8128ac",
   "metadata": {},
   "outputs": [],
   "source": [
    "env = gym.make(\"CartPole-v1\", render_mode=\"rgb_array\")"
   ]
  },
  {
   "cell_type": "code",
   "execution_count": 8,
   "id": "2c914403",
   "metadata": {},
   "outputs": [],
   "source": [
    "#Création de notre experience replay\n",
    "class ExperienceReplay:\n",
    "    \n",
    "    #Initialise un ER de taille capacity\n",
    "    def __init__(self,capacity):\n",
    "        self.capacity = capacity\n",
    "        self.data = []\n",
    "    \n",
    "    #Ajouter les données d'un step à notre ER\n",
    "    def add_step(self,step_data):\n",
    "        self.data.append(step_data)\n",
    "        if len(self.data) > self.capacity:\n",
    "            self.data = self.data[-self.capacity:]\n",
    "    \n",
    "    #Retourne un échantillon de notre ER\n",
    "    def sample(self, n):\n",
    "        n = min(n,len(self.data))\n",
    "        indices = np.random.choice(range(len(self.data)), n, replace=False)\n",
    "        samples = np.asarray(self.data)[indices]\n",
    "        \n",
    "        state_data = torch.tensor(np.stack(samples[:, 0])).float()\n",
    "        act_data = torch.tensor(np.stack(samples[:, 1])).long()\n",
    "        reward_data = torch.tensor(np.stack(samples[:, 2])).float()\n",
    "        next_state_data = torch.tensor(np.stack(samples[:, 3])).float()\n",
    "        terminal_data = torch.tensor(np.stack(samples[:, 4])).float()\n",
    "        \n",
    "        return state_data, act_data, reward_data, next_state_data, terminal_data"
   ]
  },
  {
   "cell_type": "code",
   "execution_count": 9,
   "id": "e6431b54",
   "metadata": {},
   "outputs": [],
   "source": [
    "\n",
    "#Création de notre DQN\n",
    "class DQN(torch.nn.Module):\n",
    "    \n",
    "    #Détail de notre DQN\n",
    "    def __init__(self, input_size, output_size): \n",
    "        super(DQN, self).__init__() \n",
    "\n",
    "        self.layer1 = nn.Sequential(\n",
    "            nn.Linear(input_size, 512),\n",
    "            nn.ReLU())\n",
    "        self.layer2 = nn.Sequential(\n",
    "            nn.Linear(512, 256),\n",
    "            nn.ReLU())\n",
    "        self.layer3 = nn.Sequential(\n",
    "            nn.Linear(256, 64),\n",
    "            nn.ReLU())\n",
    "        self.layer4 = nn.Sequential(\n",
    "            nn.Linear(64, output_size))\n",
    "\n",
    "    #Utilisation du DQN\n",
    "    def forward(self, x): \n",
    "        x1 = self.layer1(x)\n",
    "        x2 = self.layer2(x1)\n",
    "        x3 = self.layer3(x2) \n",
    "        x4 = self.layer4(x3)\n",
    "        return x4\n",
    "    \n",
    "    #Entraînement sur un batch de données\n",
    "    def train_on_batch(self, target_model, optimizer, obs, acts, rewards, next_obs, \n",
    "                       terminals, gamma=0.99):\n",
    "        \n",
    "        #Calcul des next_act avec le model de base\n",
    "        next_q_values = self.forward(next_obs)\n",
    "        max_next_acts = torch.max(next_q_values, dim=1)[1].detach()\n",
    "        \n",
    "        #Calcul des q_values avec le target model\n",
    "        target_next_q_values = target_model.forward(next_obs)\n",
    "        max_next_q_values = target_next_q_values.gather(index=max_next_acts.view(-1, 1), dim=1)\n",
    "        max_next_q_values = max_next_q_values.view(-1).detach()        \n",
    "        \n",
    "        #Calcul de la \"vraie\" q value\n",
    "        terminal_mods = 1 - terminals\n",
    "        actual_qs = rewards + terminal_mods * gamma * max_next_q_values\n",
    "            \n",
    "        pred_qs = self.forward(obs)\n",
    "        pred_qs = pred_qs.gather(index=acts.view(-1, 1), dim=1).view(-1)\n",
    "        \n",
    "        loss = torch.mean((actual_qs - pred_qs) ** 2)\n",
    "        \n",
    "        optimizer.zero_grad()\n",
    "        loss.backward()\n",
    "        optimizer.step()\n"
   ]
  },
  {
   "cell_type": "code",
   "execution_count": 12,
   "id": "d02fa76e",
   "metadata": {},
   "outputs": [],
   "source": [
    "#Initialisation des différents paramètres\n",
    "n_episodes = 1500    #nbr épisodes max pour training\n",
    "max_steps = 500    #nbr step max par épisode\n",
    "er_capacity = 2000    #capacité de notre ER\n",
    "input_size = env.observation_space.shape[0]    #taille de l'input de notre réseau\n",
    "output_size = env.action_space.n    #taille de sortie\n",
    "update_freq = 1    #fréquence de mise à jour de notre réseau\n",
    "target_update_delay = 100    #fréquence de mise à jour du target_model\n",
    "n_anneal_steps = 5000    #paramètre pour contrôler l'exploration\n",
    "epsilon = lambda step: np.clip(1 - 0.9 * (step/n_anneal_steps), 0.25, 1)   #fonction permettant de contrôler lexploration\n",
    "train_batch_size = 32    #taille d'un batch d'entraînement\n",
    "learning_rate = 0.00025\n",
    "print_freq = 20"
   ]
  },
  {
   "cell_type": "markdown",
   "id": "7c0b59a1",
   "metadata": {},
   "source": [
    "## 2. Train du modèle"
   ]
  },
  {
   "cell_type": "markdown",
   "id": "7aa0327c",
   "metadata": {},
   "source": [
    "### Entraînement sans enregistrement"
   ]
  },
  {
   "cell_type": "code",
   "execution_count": 21,
   "id": "c395a64b",
   "metadata": {},
   "outputs": [
    {
     "name": "stdout",
     "output_type": "stream",
     "text": [
      "The model will be running on cpu device\n",
      "Episode #0 | Step #23 | Epsilon 1.00 | Avg. Reward 23.00\n"
     ]
    },
    {
     "name": "stderr",
     "output_type": "stream",
     "text": [
      "D:\\Anaconda\\lib\\site-packages\\numpy\\core\\_asarray.py:102: FutureWarning: The input object of type 'Tensor' is an array-like implementing one of the corresponding protocols (`__array__`, `__array_interface__` or `__array_struct__`); but not a sequence (or 0-D). In the future, this object will be coerced as if it was first converted using `np.array(obj)`. To retain the old behaviour, you have to either modify the type 'Tensor', or assign to an empty array created with `np.empty(correct_shape, dtype=object)`.\n",
      "  return array(a, dtype, copy=False, order=order)\n",
      "D:\\Anaconda\\lib\\site-packages\\numpy\\core\\_asarray.py:102: VisibleDeprecationWarning: Creating an ndarray from ragged nested sequences (which is a list-or-tuple of lists-or-tuples-or ndarrays with different lengths or shapes) is deprecated. If you meant to do this, you must specify 'dtype=object' when creating the ndarray.\n",
      "  return array(a, dtype, copy=False, order=order)\n"
     ]
    },
    {
     "name": "stdout",
     "output_type": "stream",
     "text": [
      "Episode #20 | Step #509 | Epsilon 0.91 | Avg. Reward 24.30\n",
      "Episode #40 | Step #861 | Epsilon 0.85 | Avg. Reward 17.60\n",
      "Episode #60 | Step #1224 | Epsilon 0.78 | Avg. Reward 18.15\n",
      "Episode #80 | Step #1598 | Epsilon 0.71 | Avg. Reward 18.70\n",
      "Episode #100 | Step #1928 | Epsilon 0.65 | Avg. Reward 16.50\n",
      "Episode #120 | Step #2241 | Epsilon 0.60 | Avg. Reward 15.65\n",
      "Episode #140 | Step #2568 | Epsilon 0.54 | Avg. Reward 16.35\n",
      "Episode #160 | Step #2839 | Epsilon 0.49 | Avg. Reward 13.55\n",
      "Episode #180 | Step #3096 | Epsilon 0.44 | Avg. Reward 12.85\n",
      "Episode #200 | Step #3347 | Epsilon 0.40 | Avg. Reward 12.55\n",
      "Episode #220 | Step #3873 | Epsilon 0.30 | Avg. Reward 26.30\n",
      "Episode #240 | Step #4738 | Epsilon 0.25 | Avg. Reward 43.25\n",
      "Episode #260 | Step #6034 | Epsilon 0.25 | Avg. Reward 64.80\n",
      "Episode #280 | Step #7772 | Epsilon 0.25 | Avg. Reward 86.90\n",
      "Episode #300 | Step #12340 | Epsilon 0.25 | Avg. Reward 228.40\n",
      "Episode #320 | Step #15637 | Epsilon 0.25 | Avg. Reward 164.85\n",
      "Episode #340 | Step #21106 | Epsilon 0.25 | Avg. Reward 273.45\n",
      "Episode #360 | Step #27064 | Epsilon 0.25 | Avg. Reward 297.90\n",
      "Episode #380 | Step #32930 | Epsilon 0.25 | Avg. Reward 293.30\n",
      "Episode #400 | Step #40639 | Epsilon 0.25 | Avg. Reward 385.45\n",
      "Episode #420 | Step #46151 | Epsilon 0.25 | Avg. Reward 275.60\n",
      "Episode #440 | Step #54240 | Epsilon 0.25 | Avg. Reward 404.45\n",
      "Episode #460 | Step #60921 | Epsilon 0.25 | Avg. Reward 334.05\n",
      "Episode #480 | Step #68361 | Epsilon 0.25 | Avg. Reward 372.00\n",
      "Episode #500 | Step #74425 | Epsilon 0.25 | Avg. Reward 303.20\n",
      "Episode #520 | Step #83440 | Epsilon 0.25 | Avg. Reward 450.75\n",
      "Episode #540 | Step #92283 | Epsilon 0.25 | Avg. Reward 442.15\n",
      "Episode #560 | Step #101003 | Epsilon 0.25 | Avg. Reward 436.00\n",
      "Episode #580 | Step #110046 | Epsilon 0.25 | Avg. Reward 452.15\n",
      "Episode #600 | Step #116484 | Epsilon 0.25 | Avg. Reward 321.90\n",
      "Episode #620 | Step #124870 | Epsilon 0.25 | Avg. Reward 419.30\n",
      "Episode #640 | Step #132995 | Epsilon 0.25 | Avg. Reward 406.25\n",
      "Episode #660 | Step #140908 | Epsilon 0.25 | Avg. Reward 395.65\n",
      "Episode #680 | Step #147768 | Epsilon 0.25 | Avg. Reward 343.00\n",
      "Episode #700 | Step #151857 | Epsilon 0.25 | Avg. Reward 204.45\n",
      "Episode #720 | Step #157691 | Epsilon 0.25 | Avg. Reward 291.70\n",
      "Episode #740 | Step #162925 | Epsilon 0.25 | Avg. Reward 261.70\n",
      "Episode #760 | Step #167001 | Epsilon 0.25 | Avg. Reward 203.80\n",
      "Episode #780 | Step #173028 | Epsilon 0.25 | Avg. Reward 301.35\n",
      "Episode #800 | Step #181473 | Epsilon 0.25 | Avg. Reward 422.25\n",
      "Episode #820 | Step #187616 | Epsilon 0.25 | Avg. Reward 307.15\n",
      "Episode #840 | Step #194294 | Epsilon 0.25 | Avg. Reward 333.90\n",
      "Episode #860 | Step #198928 | Epsilon 0.25 | Avg. Reward 231.70\n",
      "Episode #880 | Step #205138 | Epsilon 0.25 | Avg. Reward 310.50\n",
      "Episode #900 | Step #210227 | Epsilon 0.25 | Avg. Reward 254.45\n",
      "Episode #920 | Step #212284 | Epsilon 0.25 | Avg. Reward 102.85\n",
      "Episode #940 | Step #215739 | Epsilon 0.25 | Avg. Reward 172.75\n",
      "Episode #960 | Step #218044 | Epsilon 0.25 | Avg. Reward 115.25\n",
      "Episode #980 | Step #220921 | Epsilon 0.25 | Avg. Reward 143.85\n",
      "Episode #1000 | Step #226454 | Epsilon 0.25 | Avg. Reward 276.65\n",
      "Episode #1020 | Step #231739 | Epsilon 0.25 | Avg. Reward 264.25\n",
      "Episode #1040 | Step #233659 | Epsilon 0.25 | Avg. Reward 96.00\n",
      "Episode #1060 | Step #237841 | Epsilon 0.25 | Avg. Reward 209.10\n",
      "Episode #1080 | Step #242458 | Epsilon 0.25 | Avg. Reward 230.85\n",
      "Episode #1100 | Step #244135 | Epsilon 0.25 | Avg. Reward 83.85\n",
      "Episode #1120 | Step #246730 | Epsilon 0.25 | Avg. Reward 129.75\n",
      "Episode #1140 | Step #249468 | Epsilon 0.25 | Avg. Reward 136.90\n",
      "Episode #1160 | Step #251474 | Epsilon 0.25 | Avg. Reward 100.30\n",
      "Episode #1180 | Step #255763 | Epsilon 0.25 | Avg. Reward 214.45\n",
      "Episode #1200 | Step #261960 | Epsilon 0.25 | Avg. Reward 309.85\n",
      "Episode #1220 | Step #265730 | Epsilon 0.25 | Avg. Reward 188.50\n",
      "Episode #1240 | Step #269530 | Epsilon 0.25 | Avg. Reward 190.00\n",
      "Episode #1260 | Step #274674 | Epsilon 0.25 | Avg. Reward 257.20\n",
      "Episode #1280 | Step #277660 | Epsilon 0.25 | Avg. Reward 149.30\n",
      "Episode #1300 | Step #280926 | Epsilon 0.25 | Avg. Reward 163.30\n"
     ]
    },
    {
     "ename": "KeyboardInterrupt",
     "evalue": "",
     "output_type": "error",
     "traceback": [
      "\u001b[1;31m---------------------------------------------------------------------------\u001b[0m",
      "\u001b[1;31mKeyboardInterrupt\u001b[0m                         Traceback (most recent call last)",
      "\u001b[1;32m<ipython-input-21-471e1e5595ea>\u001b[0m in \u001b[0;36m<module>\u001b[1;34m\u001b[0m\n\u001b[0;32m     49\u001b[0m         \u001b[1;32mif\u001b[0m \u001b[0mglobal_step\u001b[0m \u001b[1;33m%\u001b[0m \u001b[0mupdate_freq\u001b[0m \u001b[1;33m==\u001b[0m \u001b[1;36m0\u001b[0m\u001b[1;33m:\u001b[0m\u001b[1;33m\u001b[0m\u001b[1;33m\u001b[0m\u001b[0m\n\u001b[0;32m     50\u001b[0m             \u001b[0mobs_data\u001b[0m\u001b[1;33m,\u001b[0m \u001b[0mact_data\u001b[0m\u001b[1;33m,\u001b[0m \u001b[0mreward_data\u001b[0m\u001b[1;33m,\u001b[0m \u001b[0mnext_obs_data\u001b[0m\u001b[1;33m,\u001b[0m \u001b[0mterminal_data\u001b[0m \u001b[1;33m=\u001b[0m \u001b[0mer\u001b[0m\u001b[1;33m.\u001b[0m\u001b[0msample\u001b[0m\u001b[1;33m(\u001b[0m\u001b[0mtrain_batch_size\u001b[0m\u001b[1;33m)\u001b[0m\u001b[1;33m\u001b[0m\u001b[1;33m\u001b[0m\u001b[0m\n\u001b[1;32m---> 51\u001b[1;33m             model.train_on_batch(target_model, optimizer, obs_data, act_data,\n\u001b[0m\u001b[0;32m     52\u001b[0m                                  reward_data, next_obs_data, terminal_data)\n\u001b[0;32m     53\u001b[0m \u001b[1;33m\u001b[0m\u001b[0m\n",
      "\u001b[1;32m<ipython-input-9-e8d204662c64>\u001b[0m in \u001b[0;36mtrain_on_batch\u001b[1;34m(self, target_model, optimizer, obs, acts, rewards, next_obs, terminals, gamma)\u001b[0m\n\u001b[0;32m     50\u001b[0m         \u001b[0moptimizer\u001b[0m\u001b[1;33m.\u001b[0m\u001b[0mzero_grad\u001b[0m\u001b[1;33m(\u001b[0m\u001b[1;33m)\u001b[0m\u001b[1;33m\u001b[0m\u001b[1;33m\u001b[0m\u001b[0m\n\u001b[0;32m     51\u001b[0m         \u001b[0mloss\u001b[0m\u001b[1;33m.\u001b[0m\u001b[0mbackward\u001b[0m\u001b[1;33m(\u001b[0m\u001b[1;33m)\u001b[0m\u001b[1;33m\u001b[0m\u001b[1;33m\u001b[0m\u001b[0m\n\u001b[1;32m---> 52\u001b[1;33m         \u001b[0moptimizer\u001b[0m\u001b[1;33m.\u001b[0m\u001b[0mstep\u001b[0m\u001b[1;33m(\u001b[0m\u001b[1;33m)\u001b[0m\u001b[1;33m\u001b[0m\u001b[1;33m\u001b[0m\u001b[0m\n\u001b[0m",
      "\u001b[1;32mD:\\Anaconda\\lib\\site-packages\\torch\\optim\\optimizer.py\u001b[0m in \u001b[0;36mwrapper\u001b[1;34m(*args, **kwargs)\u001b[0m\n\u001b[0;32m    110\u001b[0m                 \u001b[0mobj\u001b[0m\u001b[1;33m,\u001b[0m \u001b[1;33m*\u001b[0m\u001b[0m_\u001b[0m \u001b[1;33m=\u001b[0m \u001b[0margs\u001b[0m\u001b[1;33m\u001b[0m\u001b[1;33m\u001b[0m\u001b[0m\n\u001b[0;32m    111\u001b[0m                 \u001b[0mprofile_name\u001b[0m \u001b[1;33m=\u001b[0m \u001b[1;34m\"Optimizer.step#{}.step\"\u001b[0m\u001b[1;33m.\u001b[0m\u001b[0mformat\u001b[0m\u001b[1;33m(\u001b[0m\u001b[0mobj\u001b[0m\u001b[1;33m.\u001b[0m\u001b[0m__class__\u001b[0m\u001b[1;33m.\u001b[0m\u001b[0m__name__\u001b[0m\u001b[1;33m)\u001b[0m\u001b[1;33m\u001b[0m\u001b[1;33m\u001b[0m\u001b[0m\n\u001b[1;32m--> 112\u001b[1;33m                 \u001b[1;32mwith\u001b[0m \u001b[0mtorch\u001b[0m\u001b[1;33m.\u001b[0m\u001b[0mautograd\u001b[0m\u001b[1;33m.\u001b[0m\u001b[0mprofiler\u001b[0m\u001b[1;33m.\u001b[0m\u001b[0mrecord_function\u001b[0m\u001b[1;33m(\u001b[0m\u001b[0mprofile_name\u001b[0m\u001b[1;33m)\u001b[0m\u001b[1;33m:\u001b[0m\u001b[1;33m\u001b[0m\u001b[1;33m\u001b[0m\u001b[0m\n\u001b[0m\u001b[0;32m    113\u001b[0m                     \u001b[1;32mreturn\u001b[0m \u001b[0mfunc\u001b[0m\u001b[1;33m(\u001b[0m\u001b[1;33m*\u001b[0m\u001b[0margs\u001b[0m\u001b[1;33m,\u001b[0m \u001b[1;33m**\u001b[0m\u001b[0mkwargs\u001b[0m\u001b[1;33m)\u001b[0m\u001b[1;33m\u001b[0m\u001b[1;33m\u001b[0m\u001b[0m\n\u001b[0;32m    114\u001b[0m             \u001b[1;32mreturn\u001b[0m \u001b[0mwrapper\u001b[0m\u001b[1;33m\u001b[0m\u001b[1;33m\u001b[0m\u001b[0m\n",
      "\u001b[1;32mD:\\Anaconda\\lib\\site-packages\\torch\\autograd\\profiler.py\u001b[0m in \u001b[0;36m__enter__\u001b[1;34m(self)\u001b[0m\n\u001b[0;32m    444\u001b[0m \u001b[1;33m\u001b[0m\u001b[0m\n\u001b[0;32m    445\u001b[0m     \u001b[1;32mdef\u001b[0m \u001b[0m__enter__\u001b[0m\u001b[1;33m(\u001b[0m\u001b[0mself\u001b[0m\u001b[1;33m)\u001b[0m\u001b[1;33m:\u001b[0m\u001b[1;33m\u001b[0m\u001b[1;33m\u001b[0m\u001b[0m\n\u001b[1;32m--> 446\u001b[1;33m         \u001b[0mself\u001b[0m\u001b[1;33m.\u001b[0m\u001b[0mhandle\u001b[0m \u001b[1;33m=\u001b[0m \u001b[0mtorch\u001b[0m\u001b[1;33m.\u001b[0m\u001b[0mops\u001b[0m\u001b[1;33m.\u001b[0m\u001b[0mprofiler\u001b[0m\u001b[1;33m.\u001b[0m\u001b[0m_record_function_enter\u001b[0m\u001b[1;33m(\u001b[0m\u001b[0mself\u001b[0m\u001b[1;33m.\u001b[0m\u001b[0mname\u001b[0m\u001b[1;33m,\u001b[0m \u001b[0mself\u001b[0m\u001b[1;33m.\u001b[0m\u001b[0margs\u001b[0m\u001b[1;33m)\u001b[0m\u001b[1;33m\u001b[0m\u001b[1;33m\u001b[0m\u001b[0m\n\u001b[0m\u001b[0;32m    447\u001b[0m         \u001b[1;32mreturn\u001b[0m \u001b[0mself\u001b[0m\u001b[1;33m\u001b[0m\u001b[1;33m\u001b[0m\u001b[0m\n\u001b[0;32m    448\u001b[0m \u001b[1;33m\u001b[0m\u001b[0m\n",
      "\u001b[1;32mD:\\Anaconda\\lib\\site-packages\\torch\\_ops.py\u001b[0m in \u001b[0;36m__call__\u001b[1;34m(self, *args, **kwargs)\u001b[0m\n\u001b[0;32m    141\u001b[0m         \u001b[1;31m# We save the function ptr as the `op` attribute on\u001b[0m\u001b[1;33m\u001b[0m\u001b[1;33m\u001b[0m\u001b[1;33m\u001b[0m\u001b[0m\n\u001b[0;32m    142\u001b[0m         \u001b[1;31m# OpOverloadPacket to access it here.\u001b[0m\u001b[1;33m\u001b[0m\u001b[1;33m\u001b[0m\u001b[1;33m\u001b[0m\u001b[0m\n\u001b[1;32m--> 143\u001b[1;33m         \u001b[1;32mreturn\u001b[0m \u001b[0mself\u001b[0m\u001b[1;33m.\u001b[0m\u001b[0m_op\u001b[0m\u001b[1;33m(\u001b[0m\u001b[1;33m*\u001b[0m\u001b[0margs\u001b[0m\u001b[1;33m,\u001b[0m \u001b[1;33m**\u001b[0m\u001b[0mkwargs\u001b[0m \u001b[1;32mor\u001b[0m \u001b[1;33m{\u001b[0m\u001b[1;33m}\u001b[0m\u001b[1;33m)\u001b[0m\u001b[1;33m\u001b[0m\u001b[1;33m\u001b[0m\u001b[0m\n\u001b[0m\u001b[0;32m    144\u001b[0m \u001b[1;33m\u001b[0m\u001b[0m\n\u001b[0;32m    145\u001b[0m     \u001b[1;31m# TODO: use this to make a __dir__\u001b[0m\u001b[1;33m\u001b[0m\u001b[1;33m\u001b[0m\u001b[1;33m\u001b[0m\u001b[0m\n",
      "\u001b[1;31mKeyboardInterrupt\u001b[0m: "
     ]
    }
   ],
   "source": [
    "#Initialisation de l'environnement\n",
    "env = gym.make(\"CartPole-v1\", render_mode=\"rgb_array\")\n",
    "env.action_space.seed(0)\n",
    "\n",
    "observation, info = env.reset(seed=42)\n",
    "\n",
    "#Initialisation de l'ER, du model, du target_model\n",
    "er = ExperienceReplay(er_capacity)\n",
    "model = DQN(input_size, output_size)\n",
    "target_model = copy.deepcopy(model)\n",
    "optimizer = torch.optim.SGD(model.parameters(), lr=learning_rate)\n",
    "all_rewards = []\n",
    "global_step = 0\n",
    "\n",
    "device = torch.device(\"cuda:0\" if torch.cuda.is_available() else \"cpu\")\n",
    "print(\"The model will be running on\", device, \"device\")\n",
    "\n",
    "for episode in range(n_episodes):\n",
    "    \n",
    "    #Reset de l'environnement et des variables pour chaque nouvel épisode\n",
    "    obs, info = env.reset()\n",
    "    obs = torch.tensor(obs)\n",
    "    \n",
    "    episode_reward = 0\n",
    "    step = 0\n",
    "    \n",
    "    while step < max_steps:\n",
    "\n",
    "        #Début du step\n",
    "        #Choix d'une action random pour explorer ou non en fonction de la valeur d'epsilon\n",
    "        if np.random.rand() < epsilon(global_step):\n",
    "            act = env.action_space.sample()\n",
    "        else:\n",
    "            q_values = model(obs)\n",
    "            q_values = q_values.cpu().detach().numpy()\n",
    "            act = np.argmax(q_values)\n",
    "                   \n",
    "        \n",
    "        #Récuperation des données suite à l'action faite\n",
    "        next_obs, reward, terminated, truncated, info = env.step(act)\n",
    "        next_obs = torch.tensor(next_obs)\n",
    "        episode_reward += reward\n",
    "        \n",
    "        #Ajout des données à l'ER\n",
    "        er.add_step([obs, act, reward, next_obs, int(terminated)])\n",
    "        obs = next_obs\n",
    "        \n",
    "        #Train sur un batch\n",
    "        if global_step % update_freq == 0:\n",
    "            obs_data, act_data, reward_data, next_obs_data, terminal_data = er.sample(train_batch_size)\n",
    "            model.train_on_batch(target_model, optimizer, obs_data, act_data,\n",
    "                                 reward_data, next_obs_data, terminal_data)\n",
    "        \n",
    "        #Mise à jour du target_model\n",
    "        if global_step and global_step % target_update_delay == 0:\n",
    "            #print(\"update target\")\n",
    "            target_model = copy.deepcopy(model)\n",
    "            \n",
    "\n",
    "        #Fin du step\n",
    "        step += 1\n",
    "        global_step += 1\n",
    "        \n",
    "        if terminated:\n",
    "            break\n",
    "\n",
    "    all_rewards.append(episode_reward)\n",
    "    \n",
    "    if episode % print_freq == 0:\n",
    "        print('Episode #{} | Step #{} | Epsilon {:.2f} | Avg. Reward {:.2f}'.format(\n",
    "            episode, global_step, epsilon(global_step), np.mean(all_rewards[-print_freq:])))\n",
    "    \n",
    "    #Fin de l'apprentissage si on a une moyenne satisfaisante sur les derniers essais + sauvegarde du modèle\n",
    "    if np.mean(all_rewards[-print_freq:]) >= 470:\n",
    "        print(episode)\n",
    "        save = model.state_dict()\n",
    "        break\n",
    "        \n",
    "env.close()"
   ]
  },
  {
   "cell_type": "code",
   "execution_count": 25,
   "id": "a1de7711",
   "metadata": {},
   "outputs": [
    {
     "data": {
      "image/png": "[encoded data removed]",
      "text/plain": [
       "<Figure size 432x288 with 1 Axes>"
      ]
     },
     "metadata": {
      "needs_background": "light"
     },
     "output_type": "display_data"
    }
   ],
   "source": [
    "import numpy as np\n",
    "import matplotlib.pyplot as plt\n",
    "\n",
    "# création de données\n",
    "x = list(range(episode))\n",
    "y = all_rewards\n",
    " \n",
    "plt.scatter(x, y)\n",
    "plt.xlabel(\"Épisodes\", size = 16,)\n",
    "plt.ylabel(\"Reward\", size = 16)\n",
    "plt.title(\"Reward en fonction du nombre d'épisodes\")\n",
    "plt.show()"
   ]
  },
  {
   "cell_type": "markdown",
   "id": "3b8b6488",
   "metadata": {},
   "source": [
    "### Enregistrement vidéo pendant l'entraînement"
   ]
  },
  {
   "cell_type": "code",
   "execution_count": 10,
   "id": "2e63a290",
   "metadata": {
    "scrolled": true
   },
   "outputs": [
    {
     "name": "stderr",
     "output_type": "stream",
     "text": [
      "D:\\Anaconda\\lib\\site-packages\\gym\\wrappers\\record_video.py:75: UserWarning: \u001b[33mWARN: Overwriting existing videos at C:\\Users\\flori\\Desktop\\ECL\\Cours-TD\\4A\\MasterIA\\projet2\\Notebook\\video folder (try specifying a different `video_folder` for the `RecordVideo` wrapper if this is not desired)\u001b[0m\n",
      "  logger.warn(\n"
     ]
    },
    {
     "name": "stdout",
     "output_type": "stream",
     "text": [
      "The model will be running on cpu device\n"
     ]
    },
    {
     "name": "stderr",
     "output_type": "stream",
     "text": [
      "D:\\Anaconda\\lib\\site-packages\\numpy\\core\\_asarray.py:102: FutureWarning: The input object of type 'Tensor' is an array-like implementing one of the corresponding protocols (`__array__`, `__array_interface__` or `__array_struct__`); but not a sequence (or 0-D). In the future, this object will be coerced as if it was first converted using `np.array(obj)`. To retain the old behaviour, you have to either modify the type 'Tensor', or assign to an empty array created with `np.empty(correct_shape, dtype=object)`.\n",
      "  return array(a, dtype, copy=False, order=order)\n",
      "D:\\Anaconda\\lib\\site-packages\\numpy\\core\\_asarray.py:102: VisibleDeprecationWarning: Creating an ndarray from ragged nested sequences (which is a list-or-tuple of lists-or-tuples-or ndarrays with different lengths or shapes) is deprecated. If you meant to do this, you must specify 'dtype=object' when creating the ndarray.\n",
      "  return array(a, dtype, copy=False, order=order)\n",
      "t:   0%|                                                                              | 0/30 [00:00<?, ?it/s, now=None]"
     ]
    },
    {
     "name": "stdout",
     "output_type": "stream",
     "text": [
      "Moviepy - Building video C:\\Users\\flori\\Desktop\\ECL\\Cours-TD\\4A\\MasterIA\\projet2\\Notebook\\video\\rl-video-episode-0.mp4.\n",
      "Moviepy - Writing video C:\\Users\\flori\\Desktop\\ECL\\Cours-TD\\4A\\MasterIA\\projet2\\Notebook\\video\\rl-video-episode-0.mp4\n",
      "\n"
     ]
    },
    {
     "name": "stderr",
     "output_type": "stream",
     "text": [
      "                                                                                                                       \r"
     ]
    },
    {
     "name": "stdout",
     "output_type": "stream",
     "text": [
      "Moviepy - Done !\n",
      "Moviepy - video ready C:\\Users\\flori\\Desktop\\ECL\\Cours-TD\\4A\\MasterIA\\projet2\\Notebook\\video\\rl-video-episode-0.mp4\n",
      "Episode #0 | Step #27 | Epsilon 1.00 | Avg. Reward 27.00\n"
     ]
    },
    {
     "name": "stderr",
     "output_type": "stream",
     "text": [
      "                                                                                                                       "
     ]
    },
    {
     "name": "stdout",
     "output_type": "stream",
     "text": [
      "Moviepy - Building video C:\\Users\\flori\\Desktop\\ECL\\Cours-TD\\4A\\MasterIA\\projet2\\Notebook\\video\\rl-video-episode-20.mp4.\n",
      "Moviepy - Writing video C:\\Users\\flori\\Desktop\\ECL\\Cours-TD\\4A\\MasterIA\\projet2\\Notebook\\video\\rl-video-episode-20.mp4\n",
      "\n",
      "Moviepy - Done !\n",
      "Moviepy - video ready C:\\Users\\flori\\Desktop\\ECL\\Cours-TD\\4A\\MasterIA\\projet2\\Notebook\\video\\rl-video-episode-20.mp4\n"
     ]
    },
    {
     "name": "stderr",
     "output_type": "stream",
     "text": [
      "\r"
     ]
    },
    {
     "name": "stdout",
     "output_type": "stream",
     "text": [
      "Episode #20 | Step #421 | Epsilon 0.92 | Avg. Reward 19.70\n"
     ]
    },
    {
     "name": "stderr",
     "output_type": "stream",
     "text": [
      "                                                                                                                       "
     ]
    },
    {
     "name": "stdout",
     "output_type": "stream",
     "text": [
      "Moviepy - Building video C:\\Users\\flori\\Desktop\\ECL\\Cours-TD\\4A\\MasterIA\\projet2\\Notebook\\video\\rl-video-episode-40.mp4.\n",
      "Moviepy - Writing video C:\\Users\\flori\\Desktop\\ECL\\Cours-TD\\4A\\MasterIA\\projet2\\Notebook\\video\\rl-video-episode-40.mp4\n",
      "\n",
      "Moviepy - Done !\n",
      "Moviepy - video ready C:\\Users\\flori\\Desktop\\ECL\\Cours-TD\\4A\\MasterIA\\projet2\\Notebook\\video\\rl-video-episode-40.mp4\n",
      "Episode #40 | Step #842 | Epsilon 0.85 | Avg. Reward 21.05\n"
     ]
    },
    {
     "name": "stderr",
     "output_type": "stream",
     "text": [
      "                                                                                                                       "
     ]
    },
    {
     "name": "stdout",
     "output_type": "stream",
     "text": [
      "Moviepy - Building video C:\\Users\\flori\\Desktop\\ECL\\Cours-TD\\4A\\MasterIA\\projet2\\Notebook\\video\\rl-video-episode-60.mp4.\n",
      "Moviepy - Writing video C:\\Users\\flori\\Desktop\\ECL\\Cours-TD\\4A\\MasterIA\\projet2\\Notebook\\video\\rl-video-episode-60.mp4\n",
      "\n",
      "Moviepy - Done !\n",
      "Moviepy - video ready C:\\Users\\flori\\Desktop\\ECL\\Cours-TD\\4A\\MasterIA\\projet2\\Notebook\\video\\rl-video-episode-60.mp4\n",
      "Episode #60 | Step #1210 | Epsilon 0.78 | Avg. Reward 18.40\n"
     ]
    },
    {
     "name": "stderr",
     "output_type": "stream",
     "text": [
      "                                                                                                                       "
     ]
    },
    {
     "name": "stdout",
     "output_type": "stream",
     "text": [
      "Moviepy - Building video C:\\Users\\flori\\Desktop\\ECL\\Cours-TD\\4A\\MasterIA\\projet2\\Notebook\\video\\rl-video-episode-80.mp4.\n",
      "Moviepy - Writing video C:\\Users\\flori\\Desktop\\ECL\\Cours-TD\\4A\\MasterIA\\projet2\\Notebook\\video\\rl-video-episode-80.mp4\n",
      "\n",
      "Moviepy - Done !\n",
      "Moviepy - video ready C:\\Users\\flori\\Desktop\\ECL\\Cours-TD\\4A\\MasterIA\\projet2\\Notebook\\video\\rl-video-episode-80.mp4\n"
     ]
    },
    {
     "name": "stderr",
     "output_type": "stream",
     "text": [
      "\r"
     ]
    },
    {
     "name": "stdout",
     "output_type": "stream",
     "text": [
      "Episode #80 | Step #1648 | Epsilon 0.70 | Avg. Reward 21.90\n"
     ]
    },
    {
     "name": "stderr",
     "output_type": "stream",
     "text": [
      "                                                                                                                       "
     ]
    },
    {
     "name": "stdout",
     "output_type": "stream",
     "text": [
      "Moviepy - Building video C:\\Users\\flori\\Desktop\\ECL\\Cours-TD\\4A\\MasterIA\\projet2\\Notebook\\video\\rl-video-episode-100.mp4.\n",
      "Moviepy - Writing video C:\\Users\\flori\\Desktop\\ECL\\Cours-TD\\4A\\MasterIA\\projet2\\Notebook\\video\\rl-video-episode-100.mp4\n",
      "\n",
      "Moviepy - Done !\n",
      "Moviepy - video ready C:\\Users\\flori\\Desktop\\ECL\\Cours-TD\\4A\\MasterIA\\projet2\\Notebook\\video\\rl-video-episode-100.mp4\n",
      "Episode #100 | Step #1986 | Epsilon 0.64 | Avg. Reward 16.90\n"
     ]
    },
    {
     "name": "stderr",
     "output_type": "stream",
     "text": [
      "                                                                                                                       "
     ]
    },
    {
     "name": "stdout",
     "output_type": "stream",
     "text": [
      "Moviepy - Building video C:\\Users\\flori\\Desktop\\ECL\\Cours-TD\\4A\\MasterIA\\projet2\\Notebook\\video\\rl-video-episode-120.mp4.\n",
      "Moviepy - Writing video C:\\Users\\flori\\Desktop\\ECL\\Cours-TD\\4A\\MasterIA\\projet2\\Notebook\\video\\rl-video-episode-120.mp4\n",
      "\n",
      "Moviepy - Done !\n",
      "Moviepy - video ready C:\\Users\\flori\\Desktop\\ECL\\Cours-TD\\4A\\MasterIA\\projet2\\Notebook\\video\\rl-video-episode-120.mp4\n",
      "Episode #120 | Step #2302 | Epsilon 0.59 | Avg. Reward 15.80\n"
     ]
    },
    {
     "name": "stderr",
     "output_type": "stream",
     "text": [
      "                                                                                                                       "
     ]
    },
    {
     "name": "stdout",
     "output_type": "stream",
     "text": [
      "Moviepy - Building video C:\\Users\\flori\\Desktop\\ECL\\Cours-TD\\4A\\MasterIA\\projet2\\Notebook\\video\\rl-video-episode-140.mp4.\n",
      "Moviepy - Writing video C:\\Users\\flori\\Desktop\\ECL\\Cours-TD\\4A\\MasterIA\\projet2\\Notebook\\video\\rl-video-episode-140.mp4\n",
      "\n",
      "Moviepy - Done !\n",
      "Moviepy - video ready C:\\Users\\flori\\Desktop\\ECL\\Cours-TD\\4A\\MasterIA\\projet2\\Notebook\\video\\rl-video-episode-140.mp4\n",
      "Episode #140 | Step #2570 | Epsilon 0.54 | Avg. Reward 13.40\n"
     ]
    },
    {
     "name": "stderr",
     "output_type": "stream",
     "text": [
      "                                                                                                                       "
     ]
    },
    {
     "name": "stdout",
     "output_type": "stream",
     "text": [
      "Moviepy - Building video C:\\Users\\flori\\Desktop\\ECL\\Cours-TD\\4A\\MasterIA\\projet2\\Notebook\\video\\rl-video-episode-160.mp4.\n",
      "Moviepy - Writing video C:\\Users\\flori\\Desktop\\ECL\\Cours-TD\\4A\\MasterIA\\projet2\\Notebook\\video\\rl-video-episode-160.mp4\n",
      "\n",
      "Moviepy - Done !\n",
      "Moviepy - video ready C:\\Users\\flori\\Desktop\\ECL\\Cours-TD\\4A\\MasterIA\\projet2\\Notebook\\video\\rl-video-episode-160.mp4\n"
     ]
    },
    {
     "name": "stderr",
     "output_type": "stream",
     "text": [
      "\r"
     ]
    },
    {
     "name": "stdout",
     "output_type": "stream",
     "text": [
      "Episode #160 | Step #2837 | Epsilon 0.49 | Avg. Reward 13.35\n"
     ]
    },
    {
     "name": "stderr",
     "output_type": "stream",
     "text": [
      "                                                                                                                       "
     ]
    },
    {
     "name": "stdout",
     "output_type": "stream",
     "text": [
      "Moviepy - Building video C:\\Users\\flori\\Desktop\\ECL\\Cours-TD\\4A\\MasterIA\\projet2\\Notebook\\video\\rl-video-episode-180.mp4.\n",
      "Moviepy - Writing video C:\\Users\\flori\\Desktop\\ECL\\Cours-TD\\4A\\MasterIA\\projet2\\Notebook\\video\\rl-video-episode-180.mp4\n",
      "\n",
      "Moviepy - Done !\n",
      "Moviepy - video ready C:\\Users\\flori\\Desktop\\ECL\\Cours-TD\\4A\\MasterIA\\projet2\\Notebook\\video\\rl-video-episode-180.mp4\n",
      "Episode #180 | Step #3085 | Epsilon 0.44 | Avg. Reward 12.40\n"
     ]
    },
    {
     "name": "stderr",
     "output_type": "stream",
     "text": [
      "t:  19%|█████████████                                                       | 18/94 [00:00<00:00, 178.70it/s, now=None]"
     ]
    },
    {
     "name": "stdout",
     "output_type": "stream",
     "text": [
      "Moviepy - Building video C:\\Users\\flori\\Desktop\\ECL\\Cours-TD\\4A\\MasterIA\\projet2\\Notebook\\video\\rl-video-episode-200.mp4.\n",
      "Moviepy - Writing video C:\\Users\\flori\\Desktop\\ECL\\Cours-TD\\4A\\MasterIA\\projet2\\Notebook\\video\\rl-video-episode-200.mp4\n",
      "\n"
     ]
    },
    {
     "name": "stderr",
     "output_type": "stream",
     "text": [
      "                                                                                                                       \r"
     ]
    },
    {
     "name": "stdout",
     "output_type": "stream",
     "text": [
      "Moviepy - Done !\n",
      "Moviepy - video ready C:\\Users\\flori\\Desktop\\ECL\\Cours-TD\\4A\\MasterIA\\projet2\\Notebook\\video\\rl-video-episode-200.mp4\n",
      "Episode #200 | Step #3454 | Epsilon 0.38 | Avg. Reward 18.45\n"
     ]
    },
    {
     "name": "stderr",
     "output_type": "stream",
     "text": [
      "t:   3%|██▎                                                                   | 2/62 [00:00<00:04, 12.38it/s, now=None]"
     ]
    },
    {
     "name": "stdout",
     "output_type": "stream",
     "text": [
      "Moviepy - Building video C:\\Users\\flori\\Desktop\\ECL\\Cours-TD\\4A\\MasterIA\\projet2\\Notebook\\video\\rl-video-episode-220.mp4.\n",
      "Moviepy - Writing video C:\\Users\\flori\\Desktop\\ECL\\Cours-TD\\4A\\MasterIA\\projet2\\Notebook\\video\\rl-video-episode-220.mp4\n",
      "\n"
     ]
    },
    {
     "name": "stderr",
     "output_type": "stream",
     "text": [
      "                                                                                                                       \r"
     ]
    },
    {
     "name": "stdout",
     "output_type": "stream",
     "text": [
      "Moviepy - Done !\n",
      "Moviepy - video ready C:\\Users\\flori\\Desktop\\ECL\\Cours-TD\\4A\\MasterIA\\projet2\\Notebook\\video\\rl-video-episode-220.mp4\n",
      "Episode #220 | Step #4455 | Epsilon 0.25 | Avg. Reward 50.05\n"
     ]
    },
    {
     "name": "stderr",
     "output_type": "stream",
     "text": [
      "t:  16%|███████████                                                         | 11/68 [00:00<00:00, 109.20it/s, now=None]"
     ]
    },
    {
     "name": "stdout",
     "output_type": "stream",
     "text": [
      "Moviepy - Building video C:\\Users\\flori\\Desktop\\ECL\\Cours-TD\\4A\\MasterIA\\projet2\\Notebook\\video\\rl-video-episode-240.mp4.\n",
      "Moviepy - Writing video C:\\Users\\flori\\Desktop\\ECL\\Cours-TD\\4A\\MasterIA\\projet2\\Notebook\\video\\rl-video-episode-240.mp4\n",
      "\n"
     ]
    },
    {
     "name": "stderr",
     "output_type": "stream",
     "text": [
      "                                                                                                                       \r"
     ]
    },
    {
     "name": "stdout",
     "output_type": "stream",
     "text": [
      "Moviepy - Done !\n",
      "Moviepy - video ready C:\\Users\\flori\\Desktop\\ECL\\Cours-TD\\4A\\MasterIA\\projet2\\Notebook\\video\\rl-video-episode-240.mp4\n",
      "Episode #240 | Step #5622 | Epsilon 0.25 | Avg. Reward 58.35\n"
     ]
    },
    {
     "name": "stderr",
     "output_type": "stream",
     "text": [
      "t:   6%|████                                                                  | 2/35 [00:00<00:02, 15.43it/s, now=None]"
     ]
    },
    {
     "name": "stdout",
     "output_type": "stream",
     "text": [
      "Moviepy - Building video C:\\Users\\flori\\Desktop\\ECL\\Cours-TD\\4A\\MasterIA\\projet2\\Notebook\\video\\rl-video-episode-260.mp4.\n",
      "Moviepy - Writing video C:\\Users\\flori\\Desktop\\ECL\\Cours-TD\\4A\\MasterIA\\projet2\\Notebook\\video\\rl-video-episode-260.mp4\n",
      "\n"
     ]
    },
    {
     "name": "stderr",
     "output_type": "stream",
     "text": [
      "                                                                                                                       \r"
     ]
    },
    {
     "name": "stdout",
     "output_type": "stream",
     "text": [
      "Moviepy - Done !\n",
      "Moviepy - video ready C:\\Users\\flori\\Desktop\\ECL\\Cours-TD\\4A\\MasterIA\\projet2\\Notebook\\video\\rl-video-episode-260.mp4\n",
      "Episode #260 | Step #6737 | Epsilon 0.25 | Avg. Reward 55.75\n"
     ]
    },
    {
     "name": "stderr",
     "output_type": "stream",
     "text": [
      "t:  96%|█████████████████████████████████████████████████████████████████▌  | 55/57 [00:00<00:00, 311.56it/s, now=None]"
     ]
    },
    {
     "name": "stdout",
     "output_type": "stream",
     "text": [
      "Moviepy - Building video C:\\Users\\flori\\Desktop\\ECL\\Cours-TD\\4A\\MasterIA\\projet2\\Notebook\\video\\rl-video-episode-280.mp4.\n",
      "Moviepy - Writing video C:\\Users\\flori\\Desktop\\ECL\\Cours-TD\\4A\\MasterIA\\projet2\\Notebook\\video\\rl-video-episode-280.mp4\n",
      "\n"
     ]
    },
    {
     "name": "stderr",
     "output_type": "stream",
     "text": [
      "                                                                                                                       \r"
     ]
    },
    {
     "name": "stdout",
     "output_type": "stream",
     "text": [
      "Moviepy - Done !\n",
      "Moviepy - video ready C:\\Users\\flori\\Desktop\\ECL\\Cours-TD\\4A\\MasterIA\\projet2\\Notebook\\video\\rl-video-episode-280.mp4\n",
      "Episode #280 | Step #7957 | Epsilon 0.25 | Avg. Reward 61.00\n"
     ]
    },
    {
     "name": "stderr",
     "output_type": "stream",
     "text": [
      "t:   4%|██▌                                                                   | 2/55 [00:00<00:03, 16.17it/s, now=None]"
     ]
    },
    {
     "name": "stdout",
     "output_type": "stream",
     "text": [
      "Moviepy - Building video C:\\Users\\flori\\Desktop\\ECL\\Cours-TD\\4A\\MasterIA\\projet2\\Notebook\\video\\rl-video-episode-300.mp4.\n",
      "Moviepy - Writing video C:\\Users\\flori\\Desktop\\ECL\\Cours-TD\\4A\\MasterIA\\projet2\\Notebook\\video\\rl-video-episode-300.mp4\n",
      "\n"
     ]
    },
    {
     "name": "stderr",
     "output_type": "stream",
     "text": [
      "                                                                                                                       \r"
     ]
    },
    {
     "name": "stdout",
     "output_type": "stream",
     "text": [
      "Moviepy - Done !\n",
      "Moviepy - video ready C:\\Users\\flori\\Desktop\\ECL\\Cours-TD\\4A\\MasterIA\\projet2\\Notebook\\video\\rl-video-episode-300.mp4\n",
      "Episode #300 | Step #9474 | Epsilon 0.25 | Avg. Reward 75.85\n"
     ]
    },
    {
     "name": "stderr",
     "output_type": "stream",
     "text": [
      "t:  12%|████████                                                           | 13/108 [00:00<00:00, 129.06it/s, now=None]"
     ]
    },
    {
     "name": "stdout",
     "output_type": "stream",
     "text": [
      "Moviepy - Building video C:\\Users\\flori\\Desktop\\ECL\\Cours-TD\\4A\\MasterIA\\projet2\\Notebook\\video\\rl-video-episode-320.mp4.\n",
      "Moviepy - Writing video C:\\Users\\flori\\Desktop\\ECL\\Cours-TD\\4A\\MasterIA\\projet2\\Notebook\\video\\rl-video-episode-320.mp4\n",
      "\n"
     ]
    },
    {
     "name": "stderr",
     "output_type": "stream",
     "text": [
      "                                                                                                                       \r"
     ]
    },
    {
     "name": "stdout",
     "output_type": "stream",
     "text": [
      "Moviepy - Done !\n",
      "Moviepy - video ready C:\\Users\\flori\\Desktop\\ECL\\Cours-TD\\4A\\MasterIA\\projet2\\Notebook\\video\\rl-video-episode-320.mp4\n",
      "Episode #320 | Step #12301 | Epsilon 0.25 | Avg. Reward 141.35\n"
     ]
    },
    {
     "name": "stderr",
     "output_type": "stream",
     "text": [
      "t:   1%|▌                                                                    | 2/237 [00:00<00:12, 18.15it/s, now=None]"
     ]
    },
    {
     "name": "stdout",
     "output_type": "stream",
     "text": [
      "Moviepy - Building video C:\\Users\\flori\\Desktop\\ECL\\Cours-TD\\4A\\MasterIA\\projet2\\Notebook\\video\\rl-video-episode-340.mp4.\n",
      "Moviepy - Writing video C:\\Users\\flori\\Desktop\\ECL\\Cours-TD\\4A\\MasterIA\\projet2\\Notebook\\video\\rl-video-episode-340.mp4\n",
      "\n"
     ]
    },
    {
     "name": "stderr",
     "output_type": "stream",
     "text": [
      "                                                                                                                       \r"
     ]
    },
    {
     "name": "stdout",
     "output_type": "stream",
     "text": [
      "Moviepy - Done !\n",
      "Moviepy - video ready C:\\Users\\flori\\Desktop\\ECL\\Cours-TD\\4A\\MasterIA\\projet2\\Notebook\\video\\rl-video-episode-340.mp4\n",
      "Episode #340 | Step #13920 | Epsilon 0.25 | Avg. Reward 80.95\n"
     ]
    },
    {
     "name": "stderr",
     "output_type": "stream",
     "text": [
      "t:   1%|▋                                                                    | 2/188 [00:00<00:09, 18.83it/s, now=None]"
     ]
    },
    {
     "name": "stdout",
     "output_type": "stream",
     "text": [
      "Moviepy - Building video C:\\Users\\flori\\Desktop\\ECL\\Cours-TD\\4A\\MasterIA\\projet2\\Notebook\\video\\rl-video-episode-360.mp4.\n",
      "Moviepy - Writing video C:\\Users\\flori\\Desktop\\ECL\\Cours-TD\\4A\\MasterIA\\projet2\\Notebook\\video\\rl-video-episode-360.mp4\n",
      "\n"
     ]
    },
    {
     "name": "stderr",
     "output_type": "stream",
     "text": [
      "                                                                                                                       \r"
     ]
    },
    {
     "name": "stdout",
     "output_type": "stream",
     "text": [
      "Moviepy - Done !\n",
      "Moviepy - video ready C:\\Users\\flori\\Desktop\\ECL\\Cours-TD\\4A\\MasterIA\\projet2\\Notebook\\video\\rl-video-episode-360.mp4\n",
      "Episode #360 | Step #16420 | Epsilon 0.25 | Avg. Reward 125.00\n"
     ]
    },
    {
     "name": "stderr",
     "output_type": "stream",
     "text": [
      "                                                                                                                       "
     ]
    },
    {
     "name": "stdout",
     "output_type": "stream",
     "text": [
      "Moviepy - Building video C:\\Users\\flori\\Desktop\\ECL\\Cours-TD\\4A\\MasterIA\\projet2\\Notebook\\video\\rl-video-episode-380.mp4.\n",
      "Moviepy - Writing video C:\\Users\\flori\\Desktop\\ECL\\Cours-TD\\4A\\MasterIA\\projet2\\Notebook\\video\\rl-video-episode-380.mp4\n",
      "\n"
     ]
    },
    {
     "name": "stderr",
     "output_type": "stream",
     "text": [
      "\r"
     ]
    },
    {
     "name": "stdout",
     "output_type": "stream",
     "text": [
      "Moviepy - Done !\n",
      "Moviepy - video ready C:\\Users\\flori\\Desktop\\ECL\\Cours-TD\\4A\\MasterIA\\projet2\\Notebook\\video\\rl-video-episode-380.mp4\n",
      "Episode #380 | Step #19152 | Epsilon 0.25 | Avg. Reward 136.60\n"
     ]
    },
    {
     "name": "stderr",
     "output_type": "stream",
     "text": [
      "t:   1%|▍                                                                    | 2/308 [00:00<00:23, 13.11it/s, now=None]"
     ]
    },
    {
     "name": "stdout",
     "output_type": "stream",
     "text": [
      "Moviepy - Building video C:\\Users\\flori\\Desktop\\ECL\\Cours-TD\\4A\\MasterIA\\projet2\\Notebook\\video\\rl-video-episode-400.mp4.\n",
      "Moviepy - Writing video C:\\Users\\flori\\Desktop\\ECL\\Cours-TD\\4A\\MasterIA\\projet2\\Notebook\\video\\rl-video-episode-400.mp4\n",
      "\n"
     ]
    },
    {
     "name": "stderr",
     "output_type": "stream",
     "text": [
      "                                                                                                                       \r"
     ]
    },
    {
     "name": "stdout",
     "output_type": "stream",
     "text": [
      "Moviepy - Done !\n",
      "Moviepy - video ready C:\\Users\\flori\\Desktop\\ECL\\Cours-TD\\4A\\MasterIA\\projet2\\Notebook\\video\\rl-video-episode-400.mp4\n",
      "Episode #400 | Step #22932 | Epsilon 0.25 | Avg. Reward 189.00\n"
     ]
    },
    {
     "name": "stderr",
     "output_type": "stream",
     "text": [
      "t:   2%|█▋                                                                   | 4/163 [00:00<00:03, 39.98it/s, now=None]"
     ]
    },
    {
     "name": "stdout",
     "output_type": "stream",
     "text": [
      "Moviepy - Building video C:\\Users\\flori\\Desktop\\ECL\\Cours-TD\\4A\\MasterIA\\projet2\\Notebook\\video\\rl-video-episode-420.mp4.\n",
      "Moviepy - Writing video C:\\Users\\flori\\Desktop\\ECL\\Cours-TD\\4A\\MasterIA\\projet2\\Notebook\\video\\rl-video-episode-420.mp4\n",
      "\n"
     ]
    },
    {
     "name": "stderr",
     "output_type": "stream",
     "text": [
      "                                                                                                                       \r"
     ]
    },
    {
     "name": "stdout",
     "output_type": "stream",
     "text": [
      "Moviepy - Done !\n",
      "Moviepy - video ready C:\\Users\\flori\\Desktop\\ECL\\Cours-TD\\4A\\MasterIA\\projet2\\Notebook\\video\\rl-video-episode-420.mp4\n",
      "Episode #420 | Step #27445 | Epsilon 0.25 | Avg. Reward 225.65\n",
      "1000\n"
     ]
    }
   ],
   "source": [
    "def mod20(x):\n",
    "    return x%20 == 0\n",
    "\n",
    "#Initialisation de l'environnement\n",
    "env = gym.make(\"CartPole-v1\", render_mode=\"rgb_array\")\n",
    "env.action_space.seed(0)\n",
    "\n",
    "#Wrappers permettant d'enregistrer certains épisodes (ici tous les 20 épisodes)\n",
    "wrapped_env = RecordVideo(env, video_folder='video_train', episode_trigger=mod20)\n",
    "wrapped_env.action_space\n",
    "\n",
    "observation, info = wrapped_env.reset(seed=42)\n",
    "\n",
    "#Initialisation de l'ER, du model, du target_model\n",
    "er = ExperienceReplay(er_capacity)\n",
    "model = DQN(input_size, output_size)\n",
    "target_model = copy.deepcopy(model)\n",
    "optimizer = torch.optim.SGD(model.parameters(), lr=learning_rate)\n",
    "all_rewards = []\n",
    "global_step = 0\n",
    "\n",
    "device = torch.device(\"cuda:0\" if torch.cuda.is_available() else \"cpu\")\n",
    "print(\"The model will be running on\", device, \"device\")\n",
    "\n",
    "for episode in range(n_episodes):\n",
    "    \n",
    "    #Reset de l'environnement et des variables pour chaque nouvel épisode\n",
    "    obs, info = wrapped_env.reset()\n",
    "    obs = torch.tensor(obs)\n",
    "    \n",
    "    episode_reward = 0\n",
    "    step = 0\n",
    "    \n",
    "    while step < max_steps:\n",
    "\n",
    "        #Début du step\n",
    "        #Choix d'une action random pour explorer ou non en fonction de la valeur d'epsilon\n",
    "        if np.random.rand() < epsilon(global_step):\n",
    "            act = wrapped_env.action_space.sample()\n",
    "        else:\n",
    "            q_values = model(obs)\n",
    "            q_values = q_values.cpu().detach().numpy()\n",
    "            act = np.argmax(q_values)\n",
    "                   \n",
    "        \n",
    "        #Récuperation des données suite à l'action faite\n",
    "        next_obs, reward, terminated, truncated, info = wrapped_env.step(act)\n",
    "        next_obs = torch.tensor(next_obs)\n",
    "        episode_reward += reward\n",
    "        \n",
    "        #Ajout des données à l'ER\n",
    "        er.add_step([obs, act, reward, next_obs, int(terminated)])\n",
    "        obs = next_obs\n",
    "        \n",
    "        #Train sur un batch\n",
    "        if global_step % update_freq == 0:\n",
    "            obs_data, act_data, reward_data, next_obs_data, terminal_data = er.sample(train_batch_size)\n",
    "            model.train_on_batch(target_model, optimizer, obs_data, act_data,\n",
    "                                 reward_data, next_obs_data, terminal_data)\n",
    "        \n",
    "        #Mise à jour du target_model\n",
    "        if global_step and global_step % target_update_delay == 0:\n",
    "            #print(\"update target\")\n",
    "            target_model = copy.deepcopy(model)\n",
    "            \n",
    "\n",
    "        #Fin du step\n",
    "        step += 1\n",
    "        global_step += 1\n",
    "        \n",
    "        if terminated:\n",
    "            break\n",
    "\n",
    "    all_rewards.append(episode_reward)\n",
    "    \n",
    "    if episode % print_freq == 0:\n",
    "        print('Episode #{} | Step #{} | Epsilon {:.2f} | Avg. Reward {:.2f}'.format(\n",
    "            episode, global_step, epsilon(global_step), np.mean(all_rewards[-print_freq:])))\n",
    "    \n",
    "    #Fin de l'apprentissage si on a une moyenne satisfaisante sur les derniers essais + sauvegarde du modèle\n",
    "    if np.mean(all_rewards[-print_freq:]) == 450:\n",
    "        print(episode)\n",
    "        save = model.state_dict()\n",
    "        break\n",
    "        \n",
    "wrapped_env.close()"
   ]
  },
  {
   "cell_type": "code",
   "execution_count": null,
   "id": "33538c09",
   "metadata": {},
   "outputs": [],
   "source": [
    "x =  list(range(episode+1))\n",
    "x\n",
    "plt.plot(x,all_rewards)"
   ]
  },
  {
   "cell_type": "markdown",
   "id": "5d422784",
   "metadata": {},
   "source": [
    "## 3. Test du modèle"
   ]
  },
  {
   "cell_type": "code",
   "execution_count": 57,
   "id": "c0ce2702",
   "metadata": {},
   "outputs": [],
   "source": [
    "#Fonction pour tester un modèle\n",
    "def test(model):\n",
    "    \n",
    "    env = gym.make(\"CartPole-v1\", render_mode=\"human\")\n",
    "    obs, info = env.reset()\n",
    "    obs = torch.tensor(obs)\n",
    "    episode_reward = 0\n",
    "    terminated = 0\n",
    "    step = 0\n",
    "    \n",
    "    while step < 500:\n",
    "           \n",
    "        q_values = model(obs)\n",
    "        q_values = q_values.cpu().detach().numpy()\n",
    "        act = np.argmax(q_values)\n",
    "\n",
    "        next_obs, reward, terminated, truncated, info = env.step(act)\n",
    "        next_obs = torch.tensor(next_obs)\n",
    "        episode_reward += reward\n",
    "\n",
    "        obs = next_obs\n",
    "        \n",
    "        if terminated:\n",
    "            break\n",
    "        \n",
    "        step +=1\n",
    "        \n",
    "    env.close()\n",
    "    print(episode_reward)\n",
    "    \n",
    "def test_record(model):\n",
    "    \n",
    "    env = gym.make(\"CartPole-v1\", render_mode=\"rgb_array\")\n",
    "    \n",
    "    #Wrappers permettant d'enregistrer certains épisodes (ici tous les 20 épisodes)\n",
    "    wrapped_env = RecordVideo(env, video_folder='video_test')\n",
    "    wrapped_env.action_space\n",
    "    \n",
    "    obs, info = wrapped_env.reset()\n",
    "    obs = torch.tensor(obs)\n",
    "    episode_reward = 0\n",
    "    terminated = 0\n",
    "    step = 0\n",
    "    \n",
    "    while step < 500:\n",
    "           \n",
    "        q_values = model(obs)\n",
    "        q_values = q_values.cpu().detach().numpy()\n",
    "        act = np.argmax(q_values)\n",
    "\n",
    "        next_obs, reward, terminated, truncated, info = wrapped_env.step(act)\n",
    "        next_obs = torch.tensor(next_obs)\n",
    "        episode_reward += reward\n",
    "\n",
    "        obs = next_obs\n",
    "        \n",
    "        if terminated:\n",
    "            break\n",
    "        \n",
    "        step +=1\n",
    "        \n",
    "    wrapped_env.close()\n",
    "    print(episode_reward)"
   ]
  },
  {
   "cell_type": "code",
   "execution_count": 47,
   "id": "b59724eb",
   "metadata": {},
   "outputs": [
    {
     "data": {
      "text/plain": [
       "0"
      ]
     },
     "execution_count": 47,
     "metadata": {},
     "output_type": "execute_result"
    }
   ],
   "source": [
    "90%30"
   ]
  },
  {
   "cell_type": "code",
   "execution_count": 38,
   "id": "147cf3e6",
   "metadata": {},
   "outputs": [
    {
     "data": {
      "text/plain": [
       "DQN(\n",
       "  (layer1): Sequential(\n",
       "    (0): Linear(in_features=4, out_features=512, bias=True)\n",
       "    (1): ReLU()\n",
       "  )\n",
       "  (layer2): Sequential(\n",
       "    (0): Linear(in_features=512, out_features=256, bias=True)\n",
       "    (1): ReLU()\n",
       "  )\n",
       "  (layer3): Sequential(\n",
       "    (0): Linear(in_features=256, out_features=64, bias=True)\n",
       "    (1): ReLU()\n",
       "  )\n",
       "  (layer4): Sequential(\n",
       "    (0): Linear(in_features=64, out_features=2, bias=True)\n",
       "  )\n",
       ")"
      ]
     },
     "execution_count": 38,
     "metadata": {},
     "output_type": "execute_result"
    }
   ],
   "source": [
    "# commandes pour charger un modèle\n",
    "\n",
    "perfect = DQN(input_size,output_size)\n",
    "perfect.load_state_dict(torch.load('score500'))\n",
    "perfect"
   ]
  },
  {
   "cell_type": "code",
   "execution_count": 51,
   "id": "f7962e3b",
   "metadata": {},
   "outputs": [
    {
     "name": "stdout",
     "output_type": "stream",
     "text": [
      "50\n",
      "100\n",
      "150\n",
      "200\n",
      "250\n",
      "300\n",
      "350\n",
      "400\n",
      "450\n",
      "500\n",
      "550\n",
      "600\n",
      "650\n",
      "700\n",
      "750\n",
      "800\n",
      "850\n",
      "900\n",
      "950\n",
      "1000\n",
      "1000.0\n"
     ]
    }
   ],
   "source": [
    "test(perfect)"
   ]
  },
  {
   "cell_type": "code",
   "execution_count": 56,
   "id": "1eac6df2",
   "metadata": {},
   "outputs": [
    {
     "name": "stderr",
     "output_type": "stream",
     "text": [
      "t:   4%|██▋                                                                | 20/501 [00:00<00:02, 196.60it/s, now=None]"
     ]
    },
    {
     "name": "stdout",
     "output_type": "stream",
     "text": [
      "Moviepy - Building video C:\\Users\\flori\\Desktop\\ECL\\Cours-TD\\4A\\MasterIA\\projet2\\apprentissage-par-renforcement-profond\\video_test\\rl-video-episode-0.mp4.\n",
      "Moviepy - Writing video C:\\Users\\flori\\Desktop\\ECL\\Cours-TD\\4A\\MasterIA\\projet2\\apprentissage-par-renforcement-profond\\video_test\\rl-video-episode-0.mp4\n",
      "\n"
     ]
    },
    {
     "name": "stderr",
     "output_type": "stream",
     "text": [
      "                                                                                                                       \r"
     ]
    },
    {
     "name": "stdout",
     "output_type": "stream",
     "text": [
      "Moviepy - Done !\n",
      "Moviepy - video ready C:\\Users\\flori\\Desktop\\ECL\\Cours-TD\\4A\\MasterIA\\projet2\\apprentissage-par-renforcement-profond\\video_test\\rl-video-episode-0.mp4\n",
      "20000.0\n"
     ]
    }
   ],
   "source": [
    "test_record(perfect)"
   ]
  },
  {
   "cell_type": "code",
   "execution_count": 24,
   "id": "b04a7a7a",
   "metadata": {},
   "outputs": [],
   "source": [
    "env.close()"
   ]
  },
  {
   "cell_type": "code",
   "execution_count": 265,
   "id": "0ba95e1f",
   "metadata": {},
   "outputs": [],
   "source": [
    "# commandes pour enregistrer un modèle\n",
    "\n",
    "#mod = model.state_dict()\n",
    "#torch.save(mod, 'score500')"
   ]
  }
 ],
 "metadata": {
  "kernelspec": {
   "display_name": "Python 3",
   "language": "python",
   "name": "python3"
  },
  "language_info": {
   "codemirror_mode": {
    "name": "ipython",
    "version": 3
   },
   "file_extension": ".py",
   "mimetype": "text/x-python",
   "name": "python",
   "nbconvert_exporter": "python",
   "pygments_lexer": "ipython3",
   "version": "3.8.8"
  }
 },
 "nbformat": 4,
 "nbformat_minor": 5
}
