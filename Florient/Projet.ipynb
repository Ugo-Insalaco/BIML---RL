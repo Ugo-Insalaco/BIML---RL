{
 "cells": [
  {
   "cell_type": "code",
   "execution_count": 2,
   "id": "e82a2148",
   "metadata": {},
   "outputs": [],
   "source": [
    "import torch.nn as nn\n",
    "import random as rd\n",
    "import gym # pip install gym moviepy pygame\n",
    "import matplotlib.pyplot as plt\n",
    "from gym.wrappers.record_video import RecordVideo"
   ]
  },
  {
   "cell_type": "code",
   "execution_count": 3,
   "id": "84fabe2c",
   "metadata": {},
   "outputs": [],
   "source": [
    "class NN(nn.Module):\n",
    "    def __init__(self, input_size, output_size):\n",
    "        super(NN, self).__init__()\n",
    "\n",
    "        self.act = nn.ReLU()\n",
    "        self.linearLayer = nn.Linear(input_size, output_size)\n",
    "\n",
    "    def forward(self, input):\n",
    "        linearOutput = self.linearLayer(input)\n",
    "        return self.act(linearOutput)"
   ]
  },
  {
   "cell_type": "code",
   "execution_count": 4,
   "id": "8b83ebbf",
   "metadata": {},
   "outputs": [],
   "source": [
    "class CircularBuffer:\n",
    "    def __init__(self, size):\n",
    "        self.buffer = [0]*size\n",
    "        self.start_index = 0\n",
    "        self.size = size\n",
    "\n",
    "    def push(self, element):\n",
    "        self.buffer[self.start_index] = element\n",
    "        self.start_index = (self.start_index + 1) % self.size\n",
    "\n",
    "    def sample(self, number):\n",
    "        return rd.choices(self.buffer, number)"
   ]
  },
  {
   "cell_type": "code",
   "execution_count": null,
   "id": "6b9dc4e3",
   "metadata": {},
   "outputs": [
    {
     "name": "stderr",
     "output_type": "stream",
     "text": [
      "C:\\Users\\user\\anaconda3\\lib\\site-packages\\gym\\wrappers\\record_video.py:75: UserWarning: \u001b[33mWARN: Overwriting existing videos at C:\\Users\\user\\Documents\\Ecole\\Master Info\\Bio inspired machine learning\\Partie 2\\TP2\\video folder (try specifying a different `video_folder` for the `RecordVideo` wrapper if this is not desired)\u001b[0m\n",
      "  logger.warn(\n"
     ]
    },
    {
     "name": "stdout",
     "output_type": "stream",
     "text": [
      "Moviepy - Building video C:\\Users\\user\\Documents\\Ecole\\Master Info\\Bio inspired machine learning\\Partie 2\\TP2\\video\\rl-video-episode-0.mp4.\n",
      "Moviepy - Writing video C:\\Users\\user\\Documents\\Ecole\\Master Info\\Bio inspired machine learning\\Partie 2\\TP2\\video\\rl-video-episode-0.mp4\n",
      "\n"
     ]
    },
    {
     "name": "stderr",
     "output_type": "stream",
     "text": [
      "                                                                                                                       "
     ]
    },
    {
     "name": "stdout",
     "output_type": "stream",
     "text": [
      "Moviepy - Done !\n",
      "Moviepy - video ready C:\\Users\\user\\Documents\\Ecole\\Master Info\\Bio inspired machine learning\\Partie 2\\TP2\\video\\rl-video-episode-0.mp4\n"
     ]
    },
    {
     "name": "stderr",
     "output_type": "stream",
     "text": [
      "\r"
     ]
    },
    {
     "name": "stdout",
     "output_type": "stream",
     "text": [
      "Moviepy - Building video C:\\Users\\user\\Documents\\Ecole\\Master Info\\Bio inspired machine learning\\Partie 2\\TP2\\video\\rl-video-episode-5.mp4.\n",
      "Moviepy - Writing video C:\\Users\\user\\Documents\\Ecole\\Master Info\\Bio inspired machine learning\\Partie 2\\TP2\\video\\rl-video-episode-5.mp4\n",
      "\n"
     ]
    },
    {
     "name": "stderr",
     "output_type": "stream",
     "text": [
      "                                                                                                                       "
     ]
    },
    {
     "name": "stdout",
     "output_type": "stream",
     "text": [
      "Moviepy - Done !\n",
      "Moviepy - video ready C:\\Users\\user\\Documents\\Ecole\\Master Info\\Bio inspired machine learning\\Partie 2\\TP2\\video\\rl-video-episode-5.mp4\n"
     ]
    },
    {
     "name": "stderr",
     "output_type": "stream",
     "text": [
      "\r"
     ]
    },
    {
     "name": "stdout",
     "output_type": "stream",
     "text": [
      "Moviepy - Building video C:\\Users\\user\\Documents\\Ecole\\Master Info\\Bio inspired machine learning\\Partie 2\\TP2\\video\\rl-video-episode-10.mp4.\n",
      "Moviepy - Writing video C:\\Users\\user\\Documents\\Ecole\\Master Info\\Bio inspired machine learning\\Partie 2\\TP2\\video\\rl-video-episode-10.mp4\n",
      "\n"
     ]
    },
    {
     "name": "stderr",
     "output_type": "stream",
     "text": [
      "                                                                                                                       "
     ]
    },
    {
     "name": "stdout",
     "output_type": "stream",
     "text": [
      "Moviepy - Done !\n",
      "Moviepy - video ready C:\\Users\\user\\Documents\\Ecole\\Master Info\\Bio inspired machine learning\\Partie 2\\TP2\\video\\rl-video-episode-10.mp4\n"
     ]
    },
    {
     "name": "stderr",
     "output_type": "stream",
     "text": [
      "\r"
     ]
    },
    {
     "name": "stdout",
     "output_type": "stream",
     "text": [
      "Moviepy - Building video C:\\Users\\user\\Documents\\Ecole\\Master Info\\Bio inspired machine learning\\Partie 2\\TP2\\video\\rl-video-episode-15.mp4.\n",
      "Moviepy - Writing video C:\\Users\\user\\Documents\\Ecole\\Master Info\\Bio inspired machine learning\\Partie 2\\TP2\\video\\rl-video-episode-15.mp4\n",
      "\n"
     ]
    },
    {
     "name": "stderr",
     "output_type": "stream",
     "text": [
      "                                                                                                                       \r"
     ]
    },
    {
     "name": "stdout",
     "output_type": "stream",
     "text": [
      "Moviepy - Done !\n",
      "Moviepy - video ready C:\\Users\\user\\Documents\\Ecole\\Master Info\\Bio inspired machine learning\\Partie 2\\TP2\\video\\rl-video-episode-15.mp4\n",
      "fini\n"
     ]
    }
   ],
   "source": [
    "# Env creation\n",
    "env = gym.make(\"CartPole-v1\", render_mode=\"rgb_array\")\n",
    "env.action_space.seed(42)\n",
    "\n",
    "# Recording wrapper\n",
    "wrapped_env = RecordVideo(env, video_folder = './video', episode_trigger= lambda x: x%5 == 0)\n",
    "# wrapped_env = env\n",
    "observation, info = wrapped_env.reset(seed=42)\n",
    "\n",
    "# Rewards storage\n",
    "rewards = []\n",
    "recompense = 0\n",
    "\n",
    "# Buffer initialisation\n",
    "bufferSize = 3\n",
    "circularBuffer = CircularBuffer(bufferSize)\n",
    "previousObservation = 0\n",
    "\n",
    "# Model initialisation\n",
    "model = NN(4, 1)\n",
    "\n",
    "for i in range(500):\n",
    "    # Step\n",
    "    action = wrapped_env.action_space.sample()\n",
    "    observation, reward, terminated, truncated, info = wrapped_env.step(action)\n",
    "#     print(i, action, observation)\n",
    "    # Reward\n",
    "    recompense += reward\n",
    "\n",
    "    # Store action\n",
    "    if(i>0):\n",
    "        circularBuffer.push((previousObservation, observation, action, terminated))\n",
    "    previousObservation = observation\n",
    "\n",
    "    # End episode\n",
    "    if terminated or truncated:\n",
    "        rewards.append(recompense)\n",
    "        observation, info = wrapped_env.reset()\n",
    "        recompense = 0\n",
    "\n",
    "# End experience\n",
    "print(\"fini\")\n",
    "plt.scatter(list(range(len(rewards))), rewards)\n",
    "plt.ylabel(\"rewards\")\n",
    "plt.xlabel(\"episode\")\n",
    "plt.show()\n",
    "wrapped_env.close()"
   ]
  },
  {
   "cell_type": "code",
   "execution_count": 1,
   "id": "5bbed646",
   "metadata": {},
   "outputs": [
    {
     "name": "stdout",
     "output_type": "stream",
     "text": [
      "1\n"
     ]
    }
   ],
   "source": []
  },
  {
   "cell_type": "code",
   "execution_count": null,
   "id": "835638d2",
   "metadata": {},
   "outputs": [],
   "source": []
  }
 ],
 "metadata": {
  "kernelspec": {
   "display_name": "Python 3.10.8 64-bit (microsoft store)",
   "language": "python",
   "name": "python3"
  },
  "language_info": {
   "codemirror_mode": {
    "name": "ipython",
    "version": 3
   },
   "file_extension": ".py",
   "mimetype": "text/x-python",
   "name": "python",
   "nbconvert_exporter": "python",
   "pygments_lexer": "ipython3",
   "version": "3.10.8"
  },
  "vscode": {
   "interpreter": {
    "hash": "7b1f2b33e866b0bf2409397e5f58ba9cdf170d3b7f64c8f359c79998e2f88ad4"
   }
  }
 },
 "nbformat": 4,
 "nbformat_minor": 5
}
